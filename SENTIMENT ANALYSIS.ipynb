{
  "nbformat": 4,
  "nbformat_minor": 0,
  "metadata": {
    "colab": {
      "name": "SENTIMENT.ipynb",
      "provenance": [],
      "authorship_tag": "ABX9TyOwNzPegHgAiWaZV9pDjRRj",
      "include_colab_link": true
    },
    "kernelspec": {
      "name": "python3",
      "display_name": "Python 3"
    }
  },
  "cells": [
    {
      "cell_type": "markdown",
      "metadata": {
        "id": "view-in-github",
        "colab_type": "text"
      },
      "source": [
        "<a href=\"https://colab.research.google.com/github/Parkhat-archive/ThinkStats2/blob/master/SENTIMENT%20ANALYSIS.ipynb\" target=\"_parent\"><img src=\"https://colab.research.google.com/assets/colab-badge.svg\" alt=\"Open In Colab\"/></a>"
      ]
    },
    {
      "cell_type": "code",
      "metadata": {
        "id": "eVV8nHq49jnS",
        "colab_type": "code",
        "colab": {}
      },
      "source": [
        "#Get the sentiment of a text from a website"
      ],
      "execution_count": null,
      "outputs": []
    },
    {
      "cell_type": "code",
      "metadata": {
        "id": "-aIGU7sbMlV9",
        "colab_type": "code",
        "colab": {
          "base_uri": "https://localhost:8080/",
          "height": 908
        },
        "outputId": "aa39d64c-f259-4be2-bf6d-5f8a8cb3da8a"
      },
      "source": [
        "pip install newspaper3k"
      ],
      "execution_count": null,
      "outputs": [
        {
          "output_type": "stream",
          "text": [
            "Collecting newspaper3k\n",
            "\u001b[?25l  Downloading https://files.pythonhosted.org/packages/d7/b9/51afecb35bb61b188a4b44868001de348a0e8134b4dfa00ffc191567c4b9/newspaper3k-0.2.8-py3-none-any.whl (211kB)\n",
            "\r\u001b[K     |█▌                              | 10kB 19.3MB/s eta 0:00:01\r\u001b[K     |███                             | 20kB 5.8MB/s eta 0:00:01\r\u001b[K     |████▋                           | 30kB 5.7MB/s eta 0:00:01\r\u001b[K     |██████▏                         | 40kB 6.2MB/s eta 0:00:01\r\u001b[K     |███████▊                        | 51kB 6.4MB/s eta 0:00:01\r\u001b[K     |█████████▎                      | 61kB 6.9MB/s eta 0:00:01\r\u001b[K     |██████████▉                     | 71kB 7.0MB/s eta 0:00:01\r\u001b[K     |████████████▍                   | 81kB 7.5MB/s eta 0:00:01\r\u001b[K     |██████████████                  | 92kB 7.2MB/s eta 0:00:01\r\u001b[K     |███████████████▌                | 102kB 7.8MB/s eta 0:00:01\r\u001b[K     |█████████████████               | 112kB 7.8MB/s eta 0:00:01\r\u001b[K     |██████████████████▋             | 122kB 7.8MB/s eta 0:00:01\r\u001b[K     |████████████████████▏           | 133kB 7.8MB/s eta 0:00:01\r\u001b[K     |█████████████████████▊          | 143kB 7.8MB/s eta 0:00:01\r\u001b[K     |███████████████████████▎        | 153kB 7.8MB/s eta 0:00:01\r\u001b[K     |████████████████████████▉       | 163kB 7.8MB/s eta 0:00:01\r\u001b[K     |██████████████████████████▍     | 174kB 7.8MB/s eta 0:00:01\r\u001b[K     |████████████████████████████    | 184kB 7.8MB/s eta 0:00:01\r\u001b[K     |█████████████████████████████▌  | 194kB 7.8MB/s eta 0:00:01\r\u001b[K     |███████████████████████████████ | 204kB 7.8MB/s eta 0:00:01\r\u001b[K     |████████████████████████████████| 215kB 7.8MB/s \n",
            "\u001b[?25hRequirement already satisfied: beautifulsoup4>=4.4.1 in /usr/local/lib/python3.6/dist-packages (from newspaper3k) (4.6.3)\n",
            "Collecting cssselect>=0.9.2\n",
            "  Downloading https://files.pythonhosted.org/packages/3b/d4/3b5c17f00cce85b9a1e6f91096e1cc8e8ede2e1be8e96b87ce1ed09e92c5/cssselect-1.1.0-py2.py3-none-any.whl\n",
            "Requirement already satisfied: lxml>=3.6.0 in /usr/local/lib/python3.6/dist-packages (from newspaper3k) (4.2.6)\n",
            "Collecting jieba3k>=0.35.1\n",
            "\u001b[?25l  Downloading https://files.pythonhosted.org/packages/a9/cb/2c8332bcdc14d33b0bedd18ae0a4981a069c3513e445120da3c3f23a8aaa/jieba3k-0.35.1.zip (7.4MB)\n",
            "\u001b[K     |████████████████████████████████| 7.4MB 8.0MB/s \n",
            "\u001b[?25hCollecting tldextract>=2.0.1\n",
            "\u001b[?25l  Downloading https://files.pythonhosted.org/packages/fd/0e/9ab599d6e78f0340bb1d1e28ddeacb38c8bb7f91a1b0eae9a24e9603782f/tldextract-2.2.2-py2.py3-none-any.whl (48kB)\n",
            "\u001b[K     |████████████████████████████████| 51kB 7.8MB/s \n",
            "\u001b[?25hRequirement already satisfied: Pillow>=3.3.0 in /usr/local/lib/python3.6/dist-packages (from newspaper3k) (7.0.0)\n",
            "Requirement already satisfied: PyYAML>=3.11 in /usr/local/lib/python3.6/dist-packages (from newspaper3k) (3.13)\n",
            "Collecting feedfinder2>=0.0.4\n",
            "  Downloading https://files.pythonhosted.org/packages/35/82/1251fefec3bb4b03fd966c7e7f7a41c9fc2bb00d823a34c13f847fd61406/feedfinder2-0.0.4.tar.gz\n",
            "Requirement already satisfied: nltk>=3.2.1 in /usr/local/lib/python3.6/dist-packages (from newspaper3k) (3.2.5)\n",
            "Requirement already satisfied: python-dateutil>=2.5.3 in /usr/local/lib/python3.6/dist-packages (from newspaper3k) (2.8.1)\n",
            "Collecting feedparser>=5.2.1\n",
            "\u001b[?25l  Downloading https://files.pythonhosted.org/packages/91/d8/7d37fec71ff7c9dbcdd80d2b48bcdd86d6af502156fc93846fb0102cb2c4/feedparser-5.2.1.tar.bz2 (192kB)\n",
            "\u001b[K     |████████████████████████████████| 194kB 36.7MB/s \n",
            "\u001b[?25hCollecting tinysegmenter==0.3\n",
            "  Downloading https://files.pythonhosted.org/packages/17/82/86982e4b6d16e4febc79c2a1d68ee3b707e8a020c5d2bc4af8052d0f136a/tinysegmenter-0.3.tar.gz\n",
            "Requirement already satisfied: requests>=2.10.0 in /usr/local/lib/python3.6/dist-packages (from newspaper3k) (2.23.0)\n",
            "Collecting requests-file>=1.4\n",
            "  Downloading https://files.pythonhosted.org/packages/77/86/cdb5e8eaed90796aa83a6d9f75cfbd37af553c47a291cd47bc410ef9bdb2/requests_file-1.5.1-py2.py3-none-any.whl\n",
            "Requirement already satisfied: idna in /usr/local/lib/python3.6/dist-packages (from tldextract>=2.0.1->newspaper3k) (2.9)\n",
            "Requirement already satisfied: setuptools in /usr/local/lib/python3.6/dist-packages (from tldextract>=2.0.1->newspaper3k) (46.3.0)\n",
            "Requirement already satisfied: six in /usr/local/lib/python3.6/dist-packages (from feedfinder2>=0.0.4->newspaper3k) (1.12.0)\n",
            "Requirement already satisfied: chardet<4,>=3.0.2 in /usr/local/lib/python3.6/dist-packages (from requests>=2.10.0->newspaper3k) (3.0.4)\n",
            "Requirement already satisfied: certifi>=2017.4.17 in /usr/local/lib/python3.6/dist-packages (from requests>=2.10.0->newspaper3k) (2020.4.5.1)\n",
            "Requirement already satisfied: urllib3!=1.25.0,!=1.25.1,<1.26,>=1.21.1 in /usr/local/lib/python3.6/dist-packages (from requests>=2.10.0->newspaper3k) (1.24.3)\n",
            "Building wheels for collected packages: jieba3k, feedfinder2, feedparser, tinysegmenter\n",
            "  Building wheel for jieba3k (setup.py) ... \u001b[?25l\u001b[?25hdone\n",
            "  Created wheel for jieba3k: filename=jieba3k-0.35.1-cp36-none-any.whl size=7398406 sha256=e19375b463f5ec65f8a226d60aecc5f2d12b963b1011d84946bc7b5a16bfd53c\n",
            "  Stored in directory: /root/.cache/pip/wheels/83/15/9c/a3f1f67e7f7181170ad37d32e503c35da20627c013f438ed34\n",
            "  Building wheel for feedfinder2 (setup.py) ... \u001b[?25l\u001b[?25hdone\n",
            "  Created wheel for feedfinder2: filename=feedfinder2-0.0.4-cp36-none-any.whl size=3357 sha256=f4aea1fff11e219a928425fdf0718a04d419ab8770e21a4e156fa5a296105dd7\n",
            "  Stored in directory: /root/.cache/pip/wheels/de/03/ca/778e3a7a627e3d98836cc890e7cb40c7575424cfd3340f40ed\n",
            "  Building wheel for feedparser (setup.py) ... \u001b[?25l\u001b[?25hdone\n",
            "  Created wheel for feedparser: filename=feedparser-5.2.1-cp36-none-any.whl size=44940 sha256=260eb235ab981a5e3e197d829773f8b9a03ec6b26456688a9529b797bb4af8dc\n",
            "  Stored in directory: /root/.cache/pip/wheels/8c/69/b7/f52763c41c5471df57703a0ef718a32a5e81ee35dcf6d4f97f\n",
            "  Building wheel for tinysegmenter (setup.py) ... \u001b[?25l\u001b[?25hdone\n",
            "  Created wheel for tinysegmenter: filename=tinysegmenter-0.3-cp36-none-any.whl size=13539 sha256=f1e6a76a0ad656082aceaa2a3981148ab401965229f6b47ae172c1442f694da1\n",
            "  Stored in directory: /root/.cache/pip/wheels/81/2b/43/a02ede72324dd40cdd7ca53aad718c7710628e91b8b0dc0f02\n",
            "Successfully built jieba3k feedfinder2 feedparser tinysegmenter\n",
            "Installing collected packages: cssselect, jieba3k, requests-file, tldextract, feedfinder2, feedparser, tinysegmenter, newspaper3k\n",
            "Successfully installed cssselect-1.1.0 feedfinder2-0.0.4 feedparser-5.2.1 jieba3k-0.35.1 newspaper3k-0.2.8 requests-file-1.5.1 tinysegmenter-0.3 tldextract-2.2.2\n"
          ],
          "name": "stdout"
        }
      ]
    },
    {
      "cell_type": "code",
      "metadata": {
        "id": "Xs5xvvg0Myt_",
        "colab_type": "code",
        "colab": {}
      },
      "source": [
        "from textblob import TextBlob\n",
        "import nltk\n",
        "from newspaper import Article\n"
      ],
      "execution_count": null,
      "outputs": []
    },
    {
      "cell_type": "code",
      "metadata": {
        "id": "tTXY4-6qNBYL",
        "colab_type": "code",
        "colab": {}
      },
      "source": [
        "#Get the article\n",
        "url='https://decrypt.co/29053/elon-musk-reveals-how-much-bitcoin-he-owns'\n",
        "article=Article(url)"
      ],
      "execution_count": null,
      "outputs": []
    },
    {
      "cell_type": "code",
      "metadata": {
        "id": "OjZpPvNKNX2K",
        "colab_type": "code",
        "colab": {
          "base_uri": "https://localhost:8080/",
          "height": 52
        },
        "outputId": "d00af4ed-04c1-4573-c9c9-89982efc340b"
      },
      "source": [
        "#Do some NLP\n",
        "article.download()\n",
        "article.parse()\n",
        "nltk.download('punkt')\n",
        "article.nlp()"
      ],
      "execution_count": null,
      "outputs": [
        {
          "output_type": "stream",
          "text": [
            "[nltk_data] Downloading package punkt to /root/nltk_data...\n",
            "[nltk_data]   Package punkt is already up-to-date!\n"
          ],
          "name": "stdout"
        }
      ]
    },
    {
      "cell_type": "code",
      "metadata": {
        "id": "YDr-4ib5NoTe",
        "colab_type": "code",
        "colab": {
          "base_uri": "https://localhost:8080/",
          "height": 126
        },
        "outputId": "4ec9a086-7645-4cb4-dfe6-5712024f6ecd"
      },
      "source": [
        "#Get the summary\n",
        "text=article.summary\n",
        "\n",
        "print(text)"
      ],
      "execution_count": null,
      "outputs": [
        {
          "output_type": "stream",
          "text": [
            "Billionaire entrepreneur Elon Musk yesterday told the world how much Bitcoin he owns and it's somewhat… modest—for a billionaire who had tweeted memes about Bitcoin in the past.\n",
            "Musk told the Twittersphere how much he holds after explaining to Harry Potter author J.K. Rowling that the largest cryptocurrency by market cap could be useful.\n",
            "While Ari Paul, co-founder and CIO of Block Tower Capital, joked about the small amount the billionaire owns.\n",
            "And Francis Pouliot, CEO of Canadian over-the-counter bitcoin exchange Bull Bitcoin, told Musk: \"anything is better than zero!\"\n",
            "But the eccentric entrepreneur’s latest comments had little influence on the price of Bitcoin… given his tweets about Tesla’s stock price, this is probably for the best.\n"
          ],
          "name": "stdout"
        }
      ]
    },
    {
      "cell_type": "code",
      "metadata": {
        "id": "8os5ZlADO2Dg",
        "colab_type": "code",
        "colab": {
          "base_uri": "https://localhost:8080/",
          "height": 35
        },
        "outputId": "c3d45df5-b2f4-4d85-dc95-b54e91f6ef3d"
      },
      "source": [
        "#Create a TextBlob object\n",
        "obj= TextBlob(text)\n",
        "# This returens values -1 and 1\n",
        "sentiment=obj.sentiment.polarity\n",
        "print(sentiment)"
      ],
      "execution_count": null,
      "outputs": [
        {
          "output_type": "stream",
          "text": [
            "0.21375000000000002\n"
          ],
          "name": "stdout"
        }
      ]
    },
    {
      "cell_type": "code",
      "metadata": {
        "id": "1-29eS_jPZEw",
        "colab_type": "code",
        "colab": {
          "base_uri": "https://localhost:8080/",
          "height": 35
        },
        "outputId": "a0a3391f-0bdf-41b9-bf1b-0b7bd4329ca0"
      },
      "source": [
        "if sentiment==0:\n",
        "  print('Sentiment is neutral')\n",
        "elif sentiment>0:\n",
        "  print('Text is positive')\n",
        "elif sentiment<0:\n",
        "  print(\"Text is negative\")"
      ],
      "execution_count": null,
      "outputs": [
        {
          "output_type": "stream",
          "text": [
            "Text is positive\n"
          ],
          "name": "stdout"
        }
      ]
    }
  ]
}